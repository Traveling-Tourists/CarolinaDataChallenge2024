{
 "cells": [
  {
   "cell_type": "code",
   "execution_count": 8,
   "metadata": {},
   "outputs": [],
   "source": [
    "import folium\n",
    "import pandas as pd\n",
    "\n",
    "# Load data from the CSV file\n",
    "data = pd.read_csv('tourist_traps_dubai.csv')\n",
    "\n",
    "# Create a base map centered at the mean latitude and longitude\n",
    "map_center = [data['lat'].mean(), data['lng'].mean()]\n",
    "my_map = folium.Map(location=map_center, zoom_start=12)\n",
    "\n",
    "# Define marker colors for each category\n",
    "category_colors = {\n",
    "    'restaurant': 'blue',\n",
    "    'poi': 'green',\n",
    "    'attraction': 'red',\n",
    "    'accommodation': 'green'\n",
    "}\n",
    "\n",
    "# Add markers to the map\n",
    "for _, row in data.iterrows():\n",
    "    category = row['category'].lower()\n",
    "    if category in category_colors:\n",
    "        # Create a popup that shows the name and review variance\n",
    "        popup_content = f\"{row['name']}<br>Variance: {row['review_variance']}\"\n",
    "        folium.Marker(\n",
    "            location=[row['lat'], row['lng']],\n",
    "            popup=popup_content,\n",
    "            icon=folium.Icon(color=category_colors[category])\n",
    "        ).add_to(my_map)\n",
    "\n",
    "# Create a custom legend HTML with smaller icons\n",
    "legend_html = '''\n",
    "<div style=\"\n",
    "    position: fixed; \n",
    "    bottom: 50px; left: 50px; width: 150px; height: 120px; \n",
    "    background-color: white; z-index:9999; font-size:12px;\n",
    "    border:2px solid grey; border-radius:5px; padding: 10px;\">\n",
    "    <b>Map Legend</b><br>\n",
    "    <i class=\"fa fa-map-marker\" style=\"color:blue; font-size:10px;\"></i> Restaurant<br>\n",
    "    <i class=\"fa fa-map-marker\" style=\"color:green; font-size:10px;\"></i> POI / Accommodation<br>\n",
    "    <i class=\"fa fa-map-marker\" style=\"color:red; font-size:10px;\"></i> Attraction<br>\n",
    "</div>\n",
    "'''\n",
    "\n",
    "# Add the legend to the map\n",
    "my_map.get_root().html.add_child(folium.Element(legend_html))\n",
    "\n",
    "# Save the map to an HTML file\n",
    "my_map.save('map_with_locations.html')\n",
    "\n",
    "#This map website was produced with ChatGPT\n"
   ]
  },
  {
   "cell_type": "code",
   "execution_count": null,
   "metadata": {},
   "outputs": [],
   "source": []
  }
 ],
 "metadata": {
  "kernelspec": {
   "display_name": "Python 3",
   "language": "python",
   "name": "python3"
  },
  "language_info": {
   "codemirror_mode": {
    "name": "ipython",
    "version": 3
   },
   "file_extension": ".py",
   "mimetype": "text/x-python",
   "name": "python",
   "nbconvert_exporter": "python",
   "pygments_lexer": "ipython3",
   "version": "3.11.5"
  },
  "orig_nbformat": 4
 },
 "nbformat": 4,
 "nbformat_minor": 2
}
